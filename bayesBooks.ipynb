{
 "cells": [
  {
   "cell_type": "markdown",
   "metadata": {},
   "source": [
    "# 引入包"
   ]
  },
  {
   "cell_type": "code",
   "execution_count": 1,
   "metadata": {
    "collapsed": false
   },
   "outputs": [],
   "source": [
    "# -*- coding: utf-8 -*-  \n",
    "import pandas as pd\n",
    "#from pandas import DataFrame,Series\n",
    "import numpy as np\n",
    "#import jieba\n",
    "import matplotlib.pyplot as plt\n",
    "#from wordcloud import WordCloud\n",
    "#import jieba.posseg as pseg\n",
    "import re\n",
    "import pickle\n",
    "%matplotlib inline"
   ]
  },
  {
   "cell_type": "markdown",
   "metadata": {
    "collapsed": true
   },
   "source": [
    "# 读取图书分类文件并进行数据预处理\n",
    "## 1、类别只取字母;2、主题词去掉表示年代的数字以及‘—’分割符。"
   ]
  },
  {
   "cell_type": "code",
   "execution_count": 2,
   "metadata": {
    "collapsed": false,
    "scrolled": true
   },
   "outputs": [
    {
     "data": {
      "text/html": [
       "<div>\n",
       "<table border=\"1\" class=\"dataframe\">\n",
       "  <thead>\n",
       "    <tr style=\"text-align: right;\">\n",
       "      <th></th>\n",
       "      <th>正书名</th>\n",
       "      <th>主题词</th>\n",
       "      <th>fl</th>\n",
       "    </tr>\n",
       "  </thead>\n",
       "  <tbody>\n",
       "    <tr>\n",
       "      <th>0</th>\n",
       "      <td>上海调查年鉴</td>\n",
       "      <td>[统计资料, 上海市, 年鉴, 汉英]</td>\n",
       "      <td>C</td>\n",
       "    </tr>\n",
       "    <tr>\n",
       "      <th>1</th>\n",
       "      <td>广西统计年鉴</td>\n",
       "      <td>[统计资料, 广西, 年鉴, 汉英]</td>\n",
       "      <td>C</td>\n",
       "    </tr>\n",
       "    <tr>\n",
       "      <th>2</th>\n",
       "      <td>福建企业年鉴</td>\n",
       "      <td>[企业经济, 福建省, 年鉴]</td>\n",
       "      <td>F</td>\n",
       "    </tr>\n",
       "    <tr>\n",
       "      <th>3</th>\n",
       "      <td>天津调查年鉴</td>\n",
       "      <td>[统计资料, 天津市, 年鉴, 汉英]</td>\n",
       "      <td>C</td>\n",
       "    </tr>\n",
       "    <tr>\n",
       "      <th>4</th>\n",
       "      <td>海口统计年鉴</td>\n",
       "      <td>[统计资料, 海口市, 年鉴]</td>\n",
       "      <td>C</td>\n",
       "    </tr>\n",
       "  </tbody>\n",
       "</table>\n",
       "</div>"
      ],
      "text/plain": [
       "      正书名                  主题词 fl\n",
       "0  上海调查年鉴  [统计资料, 上海市, 年鉴, 汉英]  C\n",
       "1  广西统计年鉴   [统计资料, 广西, 年鉴, 汉英]  C\n",
       "2  福建企业年鉴      [企业经济, 福建省, 年鉴]  F\n",
       "3  天津调查年鉴  [统计资料, 天津市, 年鉴, 汉英]  C\n",
       "4  海口统计年鉴      [统计资料, 海口市, 年鉴]  C"
      ]
     },
     "execution_count": 2,
     "metadata": {},
     "output_type": "execute_result"
    }
   ],
   "source": [
    "comment = pd.read_excel('CIPData.XLS')\n",
    "fl = []\n",
    "for i in comment.分类号:\n",
    "    fl.append(i[0:1])\n",
    "comment['fl'] = fl\n",
    "for i in comment.index:\n",
    "    b = []\n",
    "    a = comment['主题词'][i].split('－')\n",
    "    for word in a:\n",
    "        b.append(re.sub('；|0|1|2|3|4|5|6|7|8|9|～|-|、|x','',word))\n",
    "    while '' in b:\n",
    "        b.remove('')\n",
    "    comment['主题词'][i] = b\n",
    "comment[['正书名','主题词','fl']][:5]"
   ]
  },
  {
   "cell_type": "markdown",
   "metadata": {},
   "source": [
    "### 对主题词的分布情况进行分析"
   ]
  },
  {
   "cell_type": "code",
   "execution_count": 3,
   "metadata": {
    "collapsed": false
   },
   "outputs": [
    {
     "data": {
      "text/plain": [
       "array([list(['统计资料', '上海市', '年鉴', '汉英']),\n",
       "       list(['统计资料', '广西', '年鉴', '汉英']), list(['企业经济', '福建省', '年鉴']), ...,\n",
       "       list(['经济统计', '保定', '年鉴']), list(['文化产业', '产业发展', '概况', '山西省']),\n",
       "       list(['毕业生', '高中', '升学参考资料高等学校', '招生', '介绍', '中国'])], dtype=object)"
      ]
     },
     "execution_count": 3,
     "metadata": {},
     "output_type": "execute_result"
    }
   ],
   "source": [
    "l = np.array(comment['主题词'])\n",
    "l"
   ]
  },
  {
   "cell_type": "code",
   "execution_count": 4,
   "metadata": {
    "collapsed": false
   },
   "outputs": [
    {
     "data": {
      "text/plain": [
       "(17, 1)"
      ]
     },
     "execution_count": 4,
     "metadata": {},
     "output_type": "execute_result"
    }
   ],
   "source": [
    "g=[]\n",
    "s = 0\n",
    "for i in l:\n",
    "    g.append(len(i))\n",
    "max(g),min(g)   #最大,最小主题词的数量"
   ]
  },
  {
   "cell_type": "code",
   "execution_count": 5,
   "metadata": {
    "collapsed": false
   },
   "outputs": [
    {
     "data": {
      "image/png": "[encoded data removed]",
      "text/plain": [
       "<matplotlib.figure.Figure at 0x18560518>"
      ]
     },
     "metadata": {},
     "output_type": "display_data"
    }
   ],
   "source": [
    "comment.drop(comment.index[1249],inplace=True)\n",
    "g = np.array(g)\n",
    "#绘制累积曲线\n",
    "def drawCumulativeHist(heights):\n",
    "    #创建累积曲线\n",
    "    #第一个参数为待绘制的定量数据\n",
    "    #第二个参数为划分的区间个数\n",
    "    #normed参数为是否无量纲化\n",
    "    #histtype参数为'step'，绘制阶梯状的曲线\n",
    "    #cumulative参数为是否累积\n",
    "    plt.hist(heights, 20, normed=True, histtype='step', cumulative=True)\n",
    "    plt.xlabel('Heights')\n",
    "    plt.ylabel('Frequency')\n",
    "    plt.title('Heights Of Male Students')\n",
    "    plt.show()\n",
    "ggg = plt.hist(g, 20, normed=True, histtype='step', cumulative=True)\n"
   ]
  },
  {
   "cell_type": "code",
   "execution_count": 6,
   "metadata": {
    "collapsed": false
   },
   "outputs": [
    {
     "data": {
      "text/html": [
       "<div>\n",
       "<table border=\"1\" class=\"dataframe\">\n",
       "  <thead>\n",
       "    <tr style=\"text-align: right;\">\n",
       "      <th></th>\n",
       "      <th>正书名</th>\n",
       "      <th>第一责任者及著作方式</th>\n",
       "      <th>内容提要</th>\n",
       "      <th>主题词</th>\n",
       "      <th>分类号</th>\n",
       "      <th>fl</th>\n",
       "    </tr>\n",
       "  </thead>\n",
       "  <tbody>\n",
       "    <tr>\n",
       "      <th>5</th>\n",
       "      <td>上海统计年鉴</td>\n",
       "      <td>上海市统计局, 编</td>\n",
       "      <td>本书是一本信息高度密集的资料工具书。本书收录了2010年上海的经济和社会等各方面的统计数据，...</td>\n",
       "      <td>[统计资料, 上海市, 年鉴, 汉英]</td>\n",
       "      <td>C832.51-54</td>\n",
       "      <td>C</td>\n",
       "    </tr>\n",
       "    <tr>\n",
       "      <th>6</th>\n",
       "      <td>中国高技术产业统计年鉴</td>\n",
       "      <td>国家统计局, 国家发展与改革委员会, 科学技术部, 编</td>\n",
       "      <td>为反映我国高技术产业发展状况和国际竞争能力，满足国家宏观管理部门制订调整产业政策和产业发展规...</td>\n",
       "      <td>[高技术产业, 统计资料, 中国, 年鉴, 汉英]</td>\n",
       "      <td>F279.244.4-54</td>\n",
       "      <td>F</td>\n",
       "    </tr>\n",
       "  </tbody>\n",
       "</table>\n",
       "</div>"
      ],
      "text/plain": [
       "           正书名                   第一责任者及著作方式  \\\n",
       "5       上海统计年鉴                    上海市统计局, 编   \n",
       "6  中国高技术产业统计年鉴  国家统计局, 国家发展与改革委员会, 科学技术部, 编   \n",
       "\n",
       "                                                内容提要  \\\n",
       "5  本书是一本信息高度密集的资料工具书。本书收录了2010年上海的经济和社会等各方面的统计数据，...   \n",
       "6  为反映我国高技术产业发展状况和国际竞争能力，满足国家宏观管理部门制订调整产业政策和产业发展规...   \n",
       "\n",
       "                         主题词            分类号 fl  \n",
       "5        [统计资料, 上海市, 年鉴, 汉英]     C832.51-54  C  \n",
       "6  [高技术产业, 统计资料, 中国, 年鉴, 汉英]  F279.244.4-54  F  "
      ]
     },
     "execution_count": 6,
     "metadata": {},
     "output_type": "execute_result"
    }
   ],
   "source": [
    "# 从累积曲线看90%的数量在7以下。故特征可以取7个，大于7个的从7个处截断.\n",
    "comment[5:7]"
   ]
  },
  {
   "cell_type": "markdown",
   "metadata": {},
   "source": [
    "## 分割训练集合测试集 分别占80%和20%"
   ]
  },
  {
   "cell_type": "code",
   "execution_count": 7,
   "metadata": {
    "collapsed": false
   },
   "outputs": [
    {
     "data": {
      "text/plain": [
       "17"
      ]
     },
     "execution_count": 7,
     "metadata": {},
     "output_type": "execute_result"
    }
   ],
   "source": [
    "n = int(len(comment)*0.8) #分割80%样本作为训练集\n",
    "comment_train = comment[:n]\n",
    "fl = set(comment_train['fl'])\n",
    "len(fl)                 #包含分类数"
   ]
  },
  {
   "cell_type": "code",
   "execution_count": 8,
   "metadata": {
    "collapsed": true
   },
   "outputs": [],
   "source": [
    "n = int(len(comment)*0.8)"
   ]
  },
  {
   "cell_type": "code",
   "execution_count": 9,
   "metadata": {
    "collapsed": false
   },
   "outputs": [
    {
     "data": {
      "text/plain": [
       "1804"
      ]
     },
     "execution_count": 9,
     "metadata": {},
     "output_type": "execute_result"
    }
   ],
   "source": [
    "n"
   ]
  },
  {
   "cell_type": "code",
   "execution_count": 10,
   "metadata": {
    "collapsed": false
   },
   "outputs": [
    {
     "name": "stderr",
     "output_type": "stream",
     "text": [
      "C:\\Anaconda3\\lib\\site-packages\\ipykernel\\__main__.py:1: FutureWarning: sort(columns=....) is deprecated, use sort_values(by=.....)\n",
      "  if __name__ == '__main__':\n"
     ]
    },
    {
     "data": {
      "text/html": [
       "<div>\n",
       "<table border=\"1\" class=\"dataframe\">\n",
       "  <thead>\n",
       "    <tr style=\"text-align: right;\">\n",
       "      <th></th>\n",
       "      <th>fl</th>\n",
       "    </tr>\n",
       "  </thead>\n",
       "  <tbody>\n",
       "    <tr>\n",
       "      <th>B</th>\n",
       "      <td>0.000554</td>\n",
       "    </tr>\n",
       "    <tr>\n",
       "      <th>C</th>\n",
       "      <td>0.598670</td>\n",
       "    </tr>\n",
       "    <tr>\n",
       "      <th>D</th>\n",
       "      <td>0.033814</td>\n",
       "    </tr>\n",
       "    <tr>\n",
       "      <th>E</th>\n",
       "      <td>0.007761</td>\n",
       "    </tr>\n",
       "    <tr>\n",
       "      <th>F</th>\n",
       "      <td>0.271619</td>\n",
       "    </tr>\n",
       "    <tr>\n",
       "      <th>G</th>\n",
       "      <td>0.031596</td>\n",
       "    </tr>\n",
       "    <tr>\n",
       "      <th>H</th>\n",
       "      <td>0.000554</td>\n",
       "    </tr>\n",
       "    <tr>\n",
       "      <th>I</th>\n",
       "      <td>0.000554</td>\n",
       "    </tr>\n",
       "    <tr>\n",
       "      <th>J</th>\n",
       "      <td>0.001663</td>\n",
       "    </tr>\n",
       "    <tr>\n",
       "      <th>K</th>\n",
       "      <td>0.006652</td>\n",
       "    </tr>\n",
       "    <tr>\n",
       "      <th>O</th>\n",
       "      <td>0.008315</td>\n",
       "    </tr>\n",
       "    <tr>\n",
       "      <th>P</th>\n",
       "      <td>0.001109</td>\n",
       "    </tr>\n",
       "    <tr>\n",
       "      <th>Q</th>\n",
       "      <td>0.001663</td>\n",
       "    </tr>\n",
       "    <tr>\n",
       "      <th>R</th>\n",
       "      <td>0.012749</td>\n",
       "    </tr>\n",
       "    <tr>\n",
       "      <th>T</th>\n",
       "      <td>0.006652</td>\n",
       "    </tr>\n",
       "    <tr>\n",
       "      <th>X</th>\n",
       "      <td>0.009978</td>\n",
       "    </tr>\n",
       "    <tr>\n",
       "      <th>Z</th>\n",
       "      <td>0.006098</td>\n",
       "    </tr>\n",
       "  </tbody>\n",
       "</table>\n",
       "</div>"
      ],
      "text/plain": [
       "         fl\n",
       "B  0.000554\n",
       "C  0.598670\n",
       "D  0.033814\n",
       "E  0.007761\n",
       "F  0.271619\n",
       "G  0.031596\n",
       "H  0.000554\n",
       "I  0.000554\n",
       "J  0.001663\n",
       "K  0.006652\n",
       "O  0.008315\n",
       "P  0.001109\n",
       "Q  0.001663\n",
       "R  0.012749\n",
       "T  0.006652\n",
       "X  0.009978\n",
       "Z  0.006098"
      ]
     },
     "execution_count": 10,
     "metadata": {},
     "output_type": "execute_result"
    }
   ],
   "source": [
    "cg = comment_train.sort('fl')\n",
    "from collections import Counter\n",
    "fl_d = dict(Counter(cg.fl))\n",
    "#len(cg)\n",
    "#type(fl_d)\n",
    "cc = pd.DataFrame(fl_d,['fl'])\n",
    "#cc\n",
    "cc = cc.T\n",
    "cc.fl = cc.fl/cc.fl.sum()\n",
    "# 每种分类的数量\n",
    "cc"
   ]
  },
  {
   "cell_type": "code",
   "execution_count": 11,
   "metadata": {
    "collapsed": false,
    "scrolled": true
   },
   "outputs": [
    {
     "data": {
      "text/plain": [
       "[['经济', '普查', '先进工作者', '先进事迹', '中国'],\n",
       " ['广安市', '概况'],\n",
       " ['乡镇', '行政区划', '中国', '手册'],\n",
       " ['经济', '普查', '先进工作者', '先进事迹', '徐州市', '画册'],\n",
       " ['乡镇', '行政区划', '中国', '手册'],\n",
       " ['北京科技大学', '研究生：模范学生', '先进事迹'],\n",
       " ['妇女', '企业家', '调查报告', '中国', '企业经济', '经济可持续发展', '调查报告', '中国'],\n",
       " ['节日', '经济统计', '研究', '中国'],\n",
       " ['乡镇', '行政区划', '中国', '手册'],\n",
       " ['旅游指南', '嵊泗县'],\n",
       " ['统计', '先进工作者', '先进事迹', '江西'],\n",
       " ['乡镇', '行政区划', '中国', '手册']]"
      ]
     },
     "execution_count": 11,
     "metadata": {},
     "output_type": "execute_result"
    }
   ],
   "source": [
    "# 查看某个分类下的主题词组,本例子为K分类下的主题词组\n",
    "zt_k = []\n",
    "for i in cg.index:\n",
    "    if cg.fl[i]=='K':\n",
    "        zt_k.append(cg.主题词[i])\n",
    "zt_k"
   ]
  },
  {
   "cell_type": "code",
   "execution_count": 12,
   "metadata": {
    "collapsed": false
   },
   "outputs": [
    {
     "data": {
      "text/plain": [
       "1804"
      ]
     },
     "execution_count": 12,
     "metadata": {},
     "output_type": "execute_result"
    }
   ],
   "source": [
    "len(cg)"
   ]
  },
  {
   "cell_type": "markdown",
   "metadata": {},
   "source": [
    "### 构建交叉表 以关键词为索引,以分类为字段名"
   ]
  },
  {
   "cell_type": "code",
   "execution_count": 13,
   "metadata": {
    "collapsed": false
   },
   "outputs": [
    {
     "data": {
      "text/html": [
       "<div>\n",
       "<table border=\"1\" class=\"dataframe\">\n",
       "  <thead>\n",
       "    <tr style=\"text-align: right;\">\n",
       "      <th></th>\n",
       "      <th>岗位培训</th>\n",
       "      <th>投入产出经济学</th>\n",
       "      <th>大同市</th>\n",
       "      <th>运城</th>\n",
       "      <th>上海</th>\n",
       "      <th>安徽省</th>\n",
       "      <th>成本效益分析</th>\n",
       "      <th>中国科学技术协会</th>\n",
       "      <th>社会发展</th>\n",
       "      <th>湖南省</th>\n",
       "      <th>...</th>\n",
       "      <th>贵阳市</th>\n",
       "      <th>统计报表制度</th>\n",
       "      <th>石城县</th>\n",
       "      <th>高等职业教育</th>\n",
       "      <th>商品购买力</th>\n",
       "      <th>成都市</th>\n",
       "      <th>资本市场</th>\n",
       "      <th>河北</th>\n",
       "      <th>廊坊</th>\n",
       "      <th>云南省</th>\n",
       "    </tr>\n",
       "  </thead>\n",
       "  <tbody>\n",
       "    <tr>\n",
       "      <th>G</th>\n",
       "      <td>1.0</td>\n",
       "      <td>1.0</td>\n",
       "      <td>1.0</td>\n",
       "      <td>1.0</td>\n",
       "      <td>1.0</td>\n",
       "      <td>1.0</td>\n",
       "      <td>1.0</td>\n",
       "      <td>1.0</td>\n",
       "      <td>1.0</td>\n",
       "      <td>1.0</td>\n",
       "      <td>...</td>\n",
       "      <td>1.0</td>\n",
       "      <td>1.0</td>\n",
       "      <td>1.0</td>\n",
       "      <td>1.0</td>\n",
       "      <td>1.0</td>\n",
       "      <td>1.0</td>\n",
       "      <td>1.0</td>\n",
       "      <td>1.0</td>\n",
       "      <td>1.0</td>\n",
       "      <td>1.0</td>\n",
       "    </tr>\n",
       "    <tr>\n",
       "      <th>C</th>\n",
       "      <td>1.0</td>\n",
       "      <td>1.0</td>\n",
       "      <td>1.0</td>\n",
       "      <td>1.0</td>\n",
       "      <td>1.0</td>\n",
       "      <td>1.0</td>\n",
       "      <td>1.0</td>\n",
       "      <td>1.0</td>\n",
       "      <td>1.0</td>\n",
       "      <td>1.0</td>\n",
       "      <td>...</td>\n",
       "      <td>1.0</td>\n",
       "      <td>1.0</td>\n",
       "      <td>1.0</td>\n",
       "      <td>1.0</td>\n",
       "      <td>1.0</td>\n",
       "      <td>1.0</td>\n",
       "      <td>1.0</td>\n",
       "      <td>1.0</td>\n",
       "      <td>1.0</td>\n",
       "      <td>1.0</td>\n",
       "    </tr>\n",
       "    <tr>\n",
       "      <th>T</th>\n",
       "      <td>1.0</td>\n",
       "      <td>1.0</td>\n",
       "      <td>1.0</td>\n",
       "      <td>1.0</td>\n",
       "      <td>1.0</td>\n",
       "      <td>1.0</td>\n",
       "      <td>1.0</td>\n",
       "      <td>1.0</td>\n",
       "      <td>1.0</td>\n",
       "      <td>1.0</td>\n",
       "      <td>...</td>\n",
       "      <td>1.0</td>\n",
       "      <td>1.0</td>\n",
       "      <td>1.0</td>\n",
       "      <td>1.0</td>\n",
       "      <td>1.0</td>\n",
       "      <td>1.0</td>\n",
       "      <td>1.0</td>\n",
       "      <td>1.0</td>\n",
       "      <td>1.0</td>\n",
       "      <td>1.0</td>\n",
       "    </tr>\n",
       "    <tr>\n",
       "      <th>P</th>\n",
       "      <td>1.0</td>\n",
       "      <td>1.0</td>\n",
       "      <td>1.0</td>\n",
       "      <td>1.0</td>\n",
       "      <td>1.0</td>\n",
       "      <td>1.0</td>\n",
       "      <td>1.0</td>\n",
       "      <td>1.0</td>\n",
       "      <td>1.0</td>\n",
       "      <td>1.0</td>\n",
       "      <td>...</td>\n",
       "      <td>1.0</td>\n",
       "      <td>1.0</td>\n",
       "      <td>1.0</td>\n",
       "      <td>1.0</td>\n",
       "      <td>1.0</td>\n",
       "      <td>1.0</td>\n",
       "      <td>1.0</td>\n",
       "      <td>1.0</td>\n",
       "      <td>1.0</td>\n",
       "      <td>1.0</td>\n",
       "    </tr>\n",
       "    <tr>\n",
       "      <th>Q</th>\n",
       "      <td>1.0</td>\n",
       "      <td>1.0</td>\n",
       "      <td>1.0</td>\n",
       "      <td>1.0</td>\n",
       "      <td>1.0</td>\n",
       "      <td>1.0</td>\n",
       "      <td>1.0</td>\n",
       "      <td>1.0</td>\n",
       "      <td>1.0</td>\n",
       "      <td>1.0</td>\n",
       "      <td>...</td>\n",
       "      <td>1.0</td>\n",
       "      <td>1.0</td>\n",
       "      <td>1.0</td>\n",
       "      <td>1.0</td>\n",
       "      <td>1.0</td>\n",
       "      <td>1.0</td>\n",
       "      <td>1.0</td>\n",
       "      <td>1.0</td>\n",
       "      <td>1.0</td>\n",
       "      <td>1.0</td>\n",
       "    </tr>\n",
       "    <tr>\n",
       "      <th>H</th>\n",
       "      <td>1.0</td>\n",
       "      <td>1.0</td>\n",
       "      <td>1.0</td>\n",
       "      <td>1.0</td>\n",
       "      <td>1.0</td>\n",
       "      <td>1.0</td>\n",
       "      <td>1.0</td>\n",
       "      <td>1.0</td>\n",
       "      <td>1.0</td>\n",
       "      <td>1.0</td>\n",
       "      <td>...</td>\n",
       "      <td>1.0</td>\n",
       "      <td>1.0</td>\n",
       "      <td>1.0</td>\n",
       "      <td>1.0</td>\n",
       "      <td>1.0</td>\n",
       "      <td>1.0</td>\n",
       "      <td>1.0</td>\n",
       "      <td>1.0</td>\n",
       "      <td>1.0</td>\n",
       "      <td>1.0</td>\n",
       "    </tr>\n",
       "    <tr>\n",
       "      <th>I</th>\n",
       "      <td>1.0</td>\n",
       "      <td>1.0</td>\n",
       "      <td>1.0</td>\n",
       "      <td>1.0</td>\n",
       "      <td>1.0</td>\n",
       "      <td>1.0</td>\n",
       "      <td>1.0</td>\n",
       "      <td>1.0</td>\n",
       "      <td>1.0</td>\n",
       "      <td>1.0</td>\n",
       "      <td>...</td>\n",
       "      <td>1.0</td>\n",
       "      <td>1.0</td>\n",
       "      <td>1.0</td>\n",
       "      <td>1.0</td>\n",
       "      <td>1.0</td>\n",
       "      <td>1.0</td>\n",
       "      <td>1.0</td>\n",
       "      <td>1.0</td>\n",
       "      <td>1.0</td>\n",
       "      <td>1.0</td>\n",
       "    </tr>\n",
       "    <tr>\n",
       "      <th>O</th>\n",
       "      <td>1.0</td>\n",
       "      <td>1.0</td>\n",
       "      <td>1.0</td>\n",
       "      <td>1.0</td>\n",
       "      <td>1.0</td>\n",
       "      <td>1.0</td>\n",
       "      <td>1.0</td>\n",
       "      <td>1.0</td>\n",
       "      <td>1.0</td>\n",
       "      <td>1.0</td>\n",
       "      <td>...</td>\n",
       "      <td>1.0</td>\n",
       "      <td>1.0</td>\n",
       "      <td>1.0</td>\n",
       "      <td>1.0</td>\n",
       "      <td>1.0</td>\n",
       "      <td>1.0</td>\n",
       "      <td>1.0</td>\n",
       "      <td>1.0</td>\n",
       "      <td>1.0</td>\n",
       "      <td>1.0</td>\n",
       "    </tr>\n",
       "    <tr>\n",
       "      <th>F</th>\n",
       "      <td>1.0</td>\n",
       "      <td>1.0</td>\n",
       "      <td>1.0</td>\n",
       "      <td>1.0</td>\n",
       "      <td>1.0</td>\n",
       "      <td>1.0</td>\n",
       "      <td>1.0</td>\n",
       "      <td>1.0</td>\n",
       "      <td>1.0</td>\n",
       "      <td>1.0</td>\n",
       "      <td>...</td>\n",
       "      <td>1.0</td>\n",
       "      <td>1.0</td>\n",
       "      <td>1.0</td>\n",
       "      <td>1.0</td>\n",
       "      <td>1.0</td>\n",
       "      <td>1.0</td>\n",
       "      <td>1.0</td>\n",
       "      <td>1.0</td>\n",
       "      <td>1.0</td>\n",
       "      <td>1.0</td>\n",
       "    </tr>\n",
       "    <tr>\n",
       "      <th>E</th>\n",
       "      <td>1.0</td>\n",
       "      <td>1.0</td>\n",
       "      <td>1.0</td>\n",
       "      <td>1.0</td>\n",
       "      <td>1.0</td>\n",
       "      <td>1.0</td>\n",
       "      <td>1.0</td>\n",
       "      <td>1.0</td>\n",
       "      <td>1.0</td>\n",
       "      <td>1.0</td>\n",
       "      <td>...</td>\n",
       "      <td>1.0</td>\n",
       "      <td>1.0</td>\n",
       "      <td>1.0</td>\n",
       "      <td>1.0</td>\n",
       "      <td>1.0</td>\n",
       "      <td>1.0</td>\n",
       "      <td>1.0</td>\n",
       "      <td>1.0</td>\n",
       "      <td>1.0</td>\n",
       "      <td>1.0</td>\n",
       "    </tr>\n",
       "  </tbody>\n",
       "</table>\n",
       "<p>10 rows × 818 columns</p>\n",
       "</div>"
      ],
      "text/plain": [
       "   岗位培训  投入产出经济学  大同市   运城   上海  安徽省  成本效益分析  中国科学技术协会  社会发展  湖南省 ...   贵阳市  \\\n",
       "G   1.0      1.0  1.0  1.0  1.0  1.0     1.0       1.0   1.0  1.0 ...   1.0   \n",
       "C   1.0      1.0  1.0  1.0  1.0  1.0     1.0       1.0   1.0  1.0 ...   1.0   \n",
       "T   1.0      1.0  1.0  1.0  1.0  1.0     1.0       1.0   1.0  1.0 ...   1.0   \n",
       "P   1.0      1.0  1.0  1.0  1.0  1.0     1.0       1.0   1.0  1.0 ...   1.0   \n",
       "Q   1.0      1.0  1.0  1.0  1.0  1.0     1.0       1.0   1.0  1.0 ...   1.0   \n",
       "H   1.0      1.0  1.0  1.0  1.0  1.0     1.0       1.0   1.0  1.0 ...   1.0   \n",
       "I   1.0      1.0  1.0  1.0  1.0  1.0     1.0       1.0   1.0  1.0 ...   1.0   \n",
       "O   1.0      1.0  1.0  1.0  1.0  1.0     1.0       1.0   1.0  1.0 ...   1.0   \n",
       "F   1.0      1.0  1.0  1.0  1.0  1.0     1.0       1.0   1.0  1.0 ...   1.0   \n",
       "E   1.0      1.0  1.0  1.0  1.0  1.0     1.0       1.0   1.0  1.0 ...   1.0   \n",
       "\n",
       "   统计报表制度  石城县  高等职业教育  商品购买力  成都市  资本市场   河北   廊坊  云南省  \n",
       "G     1.0  1.0     1.0    1.0  1.0   1.0  1.0  1.0  1.0  \n",
       "C     1.0  1.0     1.0    1.0  1.0   1.0  1.0  1.0  1.0  \n",
       "T     1.0  1.0     1.0    1.0  1.0   1.0  1.0  1.0  1.0  \n",
       "P     1.0  1.0     1.0    1.0  1.0   1.0  1.0  1.0  1.0  \n",
       "Q     1.0  1.0     1.0    1.0  1.0   1.0  1.0  1.0  1.0  \n",
       "H     1.0  1.0     1.0    1.0  1.0   1.0  1.0  1.0  1.0  \n",
       "I     1.0  1.0     1.0    1.0  1.0   1.0  1.0  1.0  1.0  \n",
       "O     1.0  1.0     1.0    1.0  1.0   1.0  1.0  1.0  1.0  \n",
       "F     1.0  1.0     1.0    1.0  1.0   1.0  1.0  1.0  1.0  \n",
       "E     1.0  1.0     1.0    1.0  1.0   1.0  1.0  1.0  1.0  \n",
       "\n",
       "[10 rows x 818 columns]"
      ]
     },
     "execution_count": 13,
     "metadata": {},
     "output_type": "execute_result"
    }
   ],
   "source": [
    "l=[]\n",
    "for i in cg.index: \n",
    "     l = l+cg['主题词'][i]    \n",
    "ll = set(l)\n",
    "data = np.ones((len(fl),len(ll)))\n",
    "df = pd.DataFrame(data, index=fl, columns=ll)\n",
    "df[:10]"
   ]
  },
  {
   "cell_type": "markdown",
   "metadata": {},
   "source": [
    "#### 技巧1.给每个特征值增加1,以避免作除法时分母为零。"
   ]
  },
  {
   "cell_type": "code",
   "execution_count": 14,
   "metadata": {
    "collapsed": false
   },
   "outputs": [
    {
     "name": "stderr",
     "output_type": "stream",
     "text": [
      "C:\\Anaconda3\\lib\\site-packages\\ipykernel\\__main__.py:5: SettingWithCopyWarning: \n",
      "A value is trying to be set on a copy of a slice from a DataFrame.\n",
      "Try using .loc[row_indexer,col_indexer] = value instead\n",
      "\n",
      "See the caveats in the documentation: http://pandas.pydata.org/pandas-docs/stable/indexing.html#indexing-view-versus-copy\n"
     ]
    }
   ],
   "source": [
    "for i in cg.index:\n",
    "    namei = cg['fl'][i]\n",
    "    temp =cg['主题词'][i]\n",
    "    for word in temp:\n",
    "        df[namei:namei][word]+=1 "
   ]
  },
  {
   "cell_type": "code",
   "execution_count": 15,
   "metadata": {
    "collapsed": false
   },
   "outputs": [
    {
     "data": {
      "text/html": [
       "<div>\n",
       "<table border=\"1\" class=\"dataframe\">\n",
       "  <thead>\n",
       "    <tr style=\"text-align: right;\">\n",
       "      <th></th>\n",
       "      <th>岗位培训</th>\n",
       "      <th>投入产出经济学</th>\n",
       "      <th>大同市</th>\n",
       "      <th>运城</th>\n",
       "      <th>上海</th>\n",
       "      <th>安徽省</th>\n",
       "      <th>成本效益分析</th>\n",
       "      <th>中国科学技术协会</th>\n",
       "      <th>社会发展</th>\n",
       "      <th>湖南省</th>\n",
       "      <th>...</th>\n",
       "      <th>贵阳市</th>\n",
       "      <th>统计报表制度</th>\n",
       "      <th>石城县</th>\n",
       "      <th>高等职业教育</th>\n",
       "      <th>商品购买力</th>\n",
       "      <th>成都市</th>\n",
       "      <th>资本市场</th>\n",
       "      <th>河北</th>\n",
       "      <th>廊坊</th>\n",
       "      <th>云南省</th>\n",
       "    </tr>\n",
       "  </thead>\n",
       "  <tbody>\n",
       "    <tr>\n",
       "      <th>G</th>\n",
       "      <td>1.0</td>\n",
       "      <td>1.0</td>\n",
       "      <td>1.0</td>\n",
       "      <td>1.0</td>\n",
       "      <td>1.0</td>\n",
       "      <td>2.0</td>\n",
       "      <td>1.0</td>\n",
       "      <td>2.0</td>\n",
       "      <td>1.0</td>\n",
       "      <td>1.0</td>\n",
       "      <td>...</td>\n",
       "      <td>1.0</td>\n",
       "      <td>1.0</td>\n",
       "      <td>1.0</td>\n",
       "      <td>1.0</td>\n",
       "      <td>1.0</td>\n",
       "      <td>1.0</td>\n",
       "      <td>1.0</td>\n",
       "      <td>1.0</td>\n",
       "      <td>1.0</td>\n",
       "      <td>1.0</td>\n",
       "    </tr>\n",
       "    <tr>\n",
       "      <th>C</th>\n",
       "      <td>7.0</td>\n",
       "      <td>1.0</td>\n",
       "      <td>9.0</td>\n",
       "      <td>2.0</td>\n",
       "      <td>2.0</td>\n",
       "      <td>9.0</td>\n",
       "      <td>1.0</td>\n",
       "      <td>1.0</td>\n",
       "      <td>1.0</td>\n",
       "      <td>9.0</td>\n",
       "      <td>...</td>\n",
       "      <td>6.0</td>\n",
       "      <td>3.0</td>\n",
       "      <td>2.0</td>\n",
       "      <td>2.0</td>\n",
       "      <td>1.0</td>\n",
       "      <td>5.0</td>\n",
       "      <td>1.0</td>\n",
       "      <td>2.0</td>\n",
       "      <td>1.0</td>\n",
       "      <td>13.0</td>\n",
       "    </tr>\n",
       "    <tr>\n",
       "      <th>T</th>\n",
       "      <td>1.0</td>\n",
       "      <td>1.0</td>\n",
       "      <td>1.0</td>\n",
       "      <td>1.0</td>\n",
       "      <td>1.0</td>\n",
       "      <td>1.0</td>\n",
       "      <td>1.0</td>\n",
       "      <td>1.0</td>\n",
       "      <td>1.0</td>\n",
       "      <td>1.0</td>\n",
       "      <td>...</td>\n",
       "      <td>1.0</td>\n",
       "      <td>1.0</td>\n",
       "      <td>1.0</td>\n",
       "      <td>1.0</td>\n",
       "      <td>1.0</td>\n",
       "      <td>1.0</td>\n",
       "      <td>1.0</td>\n",
       "      <td>1.0</td>\n",
       "      <td>1.0</td>\n",
       "      <td>1.0</td>\n",
       "    </tr>\n",
       "    <tr>\n",
       "      <th>P</th>\n",
       "      <td>1.0</td>\n",
       "      <td>1.0</td>\n",
       "      <td>1.0</td>\n",
       "      <td>1.0</td>\n",
       "      <td>1.0</td>\n",
       "      <td>1.0</td>\n",
       "      <td>1.0</td>\n",
       "      <td>1.0</td>\n",
       "      <td>1.0</td>\n",
       "      <td>1.0</td>\n",
       "      <td>...</td>\n",
       "      <td>1.0</td>\n",
       "      <td>1.0</td>\n",
       "      <td>1.0</td>\n",
       "      <td>1.0</td>\n",
       "      <td>1.0</td>\n",
       "      <td>1.0</td>\n",
       "      <td>1.0</td>\n",
       "      <td>1.0</td>\n",
       "      <td>1.0</td>\n",
       "      <td>1.0</td>\n",
       "    </tr>\n",
       "    <tr>\n",
       "      <th>Q</th>\n",
       "      <td>1.0</td>\n",
       "      <td>1.0</td>\n",
       "      <td>1.0</td>\n",
       "      <td>1.0</td>\n",
       "      <td>1.0</td>\n",
       "      <td>1.0</td>\n",
       "      <td>1.0</td>\n",
       "      <td>1.0</td>\n",
       "      <td>1.0</td>\n",
       "      <td>1.0</td>\n",
       "      <td>...</td>\n",
       "      <td>1.0</td>\n",
       "      <td>1.0</td>\n",
       "      <td>1.0</td>\n",
       "      <td>1.0</td>\n",
       "      <td>1.0</td>\n",
       "      <td>1.0</td>\n",
       "      <td>1.0</td>\n",
       "      <td>1.0</td>\n",
       "      <td>1.0</td>\n",
       "      <td>1.0</td>\n",
       "    </tr>\n",
       "  </tbody>\n",
       "</table>\n",
       "<p>5 rows × 818 columns</p>\n",
       "</div>"
      ],
      "text/plain": [
       "   岗位培训  投入产出经济学  大同市   运城   上海  安徽省  成本效益分析  中国科学技术协会  社会发展  湖南省  ...   贵阳市  \\\n",
       "G   1.0      1.0  1.0  1.0  1.0  2.0     1.0       2.0   1.0  1.0  ...   1.0   \n",
       "C   7.0      1.0  9.0  2.0  2.0  9.0     1.0       1.0   1.0  9.0  ...   6.0   \n",
       "T   1.0      1.0  1.0  1.0  1.0  1.0     1.0       1.0   1.0  1.0  ...   1.0   \n",
       "P   1.0      1.0  1.0  1.0  1.0  1.0     1.0       1.0   1.0  1.0  ...   1.0   \n",
       "Q   1.0      1.0  1.0  1.0  1.0  1.0     1.0       1.0   1.0  1.0  ...   1.0   \n",
       "\n",
       "   统计报表制度  石城县  高等职业教育  商品购买力  成都市  资本市场   河北   廊坊   云南省  \n",
       "G     1.0  1.0     1.0    1.0  1.0   1.0  1.0  1.0   1.0  \n",
       "C     3.0  2.0     2.0    1.0  5.0   1.0  2.0  1.0  13.0  \n",
       "T     1.0  1.0     1.0    1.0  1.0   1.0  1.0  1.0   1.0  \n",
       "P     1.0  1.0     1.0    1.0  1.0   1.0  1.0  1.0   1.0  \n",
       "Q     1.0  1.0     1.0    1.0  1.0   1.0  1.0  1.0   1.0  \n",
       "\n",
       "[5 rows x 818 columns]"
      ]
     },
     "execution_count": 15,
     "metadata": {},
     "output_type": "execute_result"
    }
   ],
   "source": [
    "df[:5]"
   ]
  },
  {
   "cell_type": "code",
   "execution_count": 16,
   "metadata": {
    "collapsed": true
   },
   "outputs": [],
   "source": [
    "df['Col_sum'] = df.apply(lambda x: x.sum(), axis=1)"
   ]
  },
  {
   "cell_type": "code",
   "execution_count": 17,
   "metadata": {
    "collapsed": false
   },
   "outputs": [
    {
     "data": {
      "text/plain": [
       "20593.0"
      ]
     },
     "execution_count": 17,
     "metadata": {},
     "output_type": "execute_result"
    }
   ],
   "source": [
    "total = df['Col_sum'].sum()\n",
    "total"
   ]
  },
  {
   "cell_type": "code",
   "execution_count": 18,
   "metadata": {
    "collapsed": false
   },
   "outputs": [],
   "source": [
    "df['Col_g'] = df['Col_sum']/total"
   ]
  },
  {
   "cell_type": "code",
   "execution_count": 19,
   "metadata": {
    "collapsed": true
   },
   "outputs": [],
   "source": [
    "#计算tag在每个分类中的频率\n",
    "for item in df.columns:\n",
    "    if item == 'Col_sum' or item =='Col_g':\n",
    "         continue\n",
    "    df[item]=df[item]/df['Col_sum']"
   ]
  },
  {
   "cell_type": "code",
   "execution_count": 20,
   "metadata": {
    "collapsed": false
   },
   "outputs": [
    {
     "data": {
      "text/html": [
       "<div>\n",
       "<table border=\"1\" class=\"dataframe\">\n",
       "  <thead>\n",
       "    <tr style=\"text-align: right;\">\n",
       "      <th></th>\n",
       "      <th>岗位培训</th>\n",
       "      <th>投入产出经济学</th>\n",
       "      <th>大同市</th>\n",
       "      <th>运城</th>\n",
       "      <th>上海</th>\n",
       "      <th>安徽省</th>\n",
       "      <th>成本效益分析</th>\n",
       "      <th>中国科学技术协会</th>\n",
       "      <th>社会发展</th>\n",
       "      <th>湖南省</th>\n",
       "      <th>...</th>\n",
       "      <th>石城县</th>\n",
       "      <th>高等职业教育</th>\n",
       "      <th>商品购买力</th>\n",
       "      <th>成都市</th>\n",
       "      <th>资本市场</th>\n",
       "      <th>河北</th>\n",
       "      <th>廊坊</th>\n",
       "      <th>云南省</th>\n",
       "      <th>Col_sum</th>\n",
       "      <th>Col_g</th>\n",
       "    </tr>\n",
       "  </thead>\n",
       "  <tbody>\n",
       "    <tr>\n",
       "      <th>G</th>\n",
       "      <td>0.000933</td>\n",
       "      <td>0.000933</td>\n",
       "      <td>0.000933</td>\n",
       "      <td>0.000933</td>\n",
       "      <td>0.000933</td>\n",
       "      <td>0.001866</td>\n",
       "      <td>0.000933</td>\n",
       "      <td>0.001866</td>\n",
       "      <td>0.000933</td>\n",
       "      <td>0.000933</td>\n",
       "      <td>...</td>\n",
       "      <td>0.000933</td>\n",
       "      <td>0.000933</td>\n",
       "      <td>0.000933</td>\n",
       "      <td>0.000933</td>\n",
       "      <td>0.000933</td>\n",
       "      <td>0.000933</td>\n",
       "      <td>0.000933</td>\n",
       "      <td>0.000933</td>\n",
       "      <td>1072.0</td>\n",
       "      <td>0.052057</td>\n",
       "    </tr>\n",
       "    <tr>\n",
       "      <th>C</th>\n",
       "      <td>0.001596</td>\n",
       "      <td>0.000228</td>\n",
       "      <td>0.002052</td>\n",
       "      <td>0.000456</td>\n",
       "      <td>0.000456</td>\n",
       "      <td>0.002052</td>\n",
       "      <td>0.000228</td>\n",
       "      <td>0.000228</td>\n",
       "      <td>0.000228</td>\n",
       "      <td>0.002052</td>\n",
       "      <td>...</td>\n",
       "      <td>0.000456</td>\n",
       "      <td>0.000456</td>\n",
       "      <td>0.000228</td>\n",
       "      <td>0.001140</td>\n",
       "      <td>0.000228</td>\n",
       "      <td>0.000456</td>\n",
       "      <td>0.000228</td>\n",
       "      <td>0.002964</td>\n",
       "      <td>4386.0</td>\n",
       "      <td>0.212985</td>\n",
       "    </tr>\n",
       "    <tr>\n",
       "      <th>T</th>\n",
       "      <td>0.001155</td>\n",
       "      <td>0.001155</td>\n",
       "      <td>0.001155</td>\n",
       "      <td>0.001155</td>\n",
       "      <td>0.001155</td>\n",
       "      <td>0.001155</td>\n",
       "      <td>0.001155</td>\n",
       "      <td>0.001155</td>\n",
       "      <td>0.001155</td>\n",
       "      <td>0.001155</td>\n",
       "      <td>...</td>\n",
       "      <td>0.001155</td>\n",
       "      <td>0.001155</td>\n",
       "      <td>0.001155</td>\n",
       "      <td>0.001155</td>\n",
       "      <td>0.001155</td>\n",
       "      <td>0.001155</td>\n",
       "      <td>0.001155</td>\n",
       "      <td>0.001155</td>\n",
       "      <td>866.0</td>\n",
       "      <td>0.042053</td>\n",
       "    </tr>\n",
       "    <tr>\n",
       "      <th>P</th>\n",
       "      <td>0.001211</td>\n",
       "      <td>0.001211</td>\n",
       "      <td>0.001211</td>\n",
       "      <td>0.001211</td>\n",
       "      <td>0.001211</td>\n",
       "      <td>0.001211</td>\n",
       "      <td>0.001211</td>\n",
       "      <td>0.001211</td>\n",
       "      <td>0.001211</td>\n",
       "      <td>0.001211</td>\n",
       "      <td>...</td>\n",
       "      <td>0.001211</td>\n",
       "      <td>0.001211</td>\n",
       "      <td>0.001211</td>\n",
       "      <td>0.001211</td>\n",
       "      <td>0.001211</td>\n",
       "      <td>0.001211</td>\n",
       "      <td>0.001211</td>\n",
       "      <td>0.001211</td>\n",
       "      <td>826.0</td>\n",
       "      <td>0.040111</td>\n",
       "    </tr>\n",
       "    <tr>\n",
       "      <th>Q</th>\n",
       "      <td>0.001208</td>\n",
       "      <td>0.001208</td>\n",
       "      <td>0.001208</td>\n",
       "      <td>0.001208</td>\n",
       "      <td>0.001208</td>\n",
       "      <td>0.001208</td>\n",
       "      <td>0.001208</td>\n",
       "      <td>0.001208</td>\n",
       "      <td>0.001208</td>\n",
       "      <td>0.001208</td>\n",
       "      <td>...</td>\n",
       "      <td>0.001208</td>\n",
       "      <td>0.001208</td>\n",
       "      <td>0.001208</td>\n",
       "      <td>0.001208</td>\n",
       "      <td>0.001208</td>\n",
       "      <td>0.001208</td>\n",
       "      <td>0.001208</td>\n",
       "      <td>0.001208</td>\n",
       "      <td>828.0</td>\n",
       "      <td>0.040208</td>\n",
       "    </tr>\n",
       "  </tbody>\n",
       "</table>\n",
       "<p>5 rows × 820 columns</p>\n",
       "</div>"
      ],
      "text/plain": [
       "       岗位培训   投入产出经济学       大同市        运城        上海       安徽省    成本效益分析  \\\n",
       "G  0.000933  0.000933  0.000933  0.000933  0.000933  0.001866  0.000933   \n",
       "C  0.001596  0.000228  0.002052  0.000456  0.000456  0.002052  0.000228   \n",
       "T  0.001155  0.001155  0.001155  0.001155  0.001155  0.001155  0.001155   \n",
       "P  0.001211  0.001211  0.001211  0.001211  0.001211  0.001211  0.001211   \n",
       "Q  0.001208  0.001208  0.001208  0.001208  0.001208  0.001208  0.001208   \n",
       "\n",
       "   中国科学技术协会      社会发展       湖南省    ...          石城县    高等职业教育     商品购买力  \\\n",
       "G  0.001866  0.000933  0.000933    ...     0.000933  0.000933  0.000933   \n",
       "C  0.000228  0.000228  0.002052    ...     0.000456  0.000456  0.000228   \n",
       "T  0.001155  0.001155  0.001155    ...     0.001155  0.001155  0.001155   \n",
       "P  0.001211  0.001211  0.001211    ...     0.001211  0.001211  0.001211   \n",
       "Q  0.001208  0.001208  0.001208    ...     0.001208  0.001208  0.001208   \n",
       "\n",
       "        成都市      资本市场        河北        廊坊       云南省  Col_sum     Col_g  \n",
       "G  0.000933  0.000933  0.000933  0.000933  0.000933   1072.0  0.052057  \n",
       "C  0.001140  0.000228  0.000456  0.000228  0.002964   4386.0  0.212985  \n",
       "T  0.001155  0.001155  0.001155  0.001155  0.001155    866.0  0.042053  \n",
       "P  0.001211  0.001211  0.001211  0.001211  0.001211    826.0  0.040111  \n",
       "Q  0.001208  0.001208  0.001208  0.001208  0.001208    828.0  0.040208  \n",
       "\n",
       "[5 rows x 820 columns]"
      ]
     },
     "execution_count": 20,
     "metadata": {},
     "output_type": "execute_result"
    }
   ],
   "source": [
    "df[:5]"
   ]
  },
  {
   "cell_type": "markdown",
   "metadata": {},
   "source": [
    "#### 技巧2 取log"
   ]
  },
  {
   "cell_type": "code",
   "execution_count": 21,
   "metadata": {
    "collapsed": false
   },
   "outputs": [],
   "source": [
    "#为避免小数位过多，取对数，则把独立相乘关系变成相加关系\n",
    "for item in df.columns:\n",
    "    if item == 'Col_sum':\n",
    "         continue\n",
    "    df[item]=np.log(df[item])\n"
   ]
  },
  {
   "cell_type": "code",
   "execution_count": 22,
   "metadata": {
    "collapsed": false
   },
   "outputs": [
    {
     "data": {
      "text/html": [
       "<div>\n",
       "<table border=\"1\" class=\"dataframe\">\n",
       "  <thead>\n",
       "    <tr style=\"text-align: right;\">\n",
       "      <th></th>\n",
       "      <th>岗位培训</th>\n",
       "      <th>投入产出经济学</th>\n",
       "      <th>大同市</th>\n",
       "      <th>运城</th>\n",
       "      <th>上海</th>\n",
       "      <th>安徽省</th>\n",
       "      <th>成本效益分析</th>\n",
       "      <th>中国科学技术协会</th>\n",
       "      <th>社会发展</th>\n",
       "      <th>湖南省</th>\n",
       "      <th>...</th>\n",
       "      <th>石城县</th>\n",
       "      <th>高等职业教育</th>\n",
       "      <th>商品购买力</th>\n",
       "      <th>成都市</th>\n",
       "      <th>资本市场</th>\n",
       "      <th>河北</th>\n",
       "      <th>廊坊</th>\n",
       "      <th>云南省</th>\n",
       "      <th>Col_sum</th>\n",
       "      <th>Col_g</th>\n",
       "    </tr>\n",
       "  </thead>\n",
       "  <tbody>\n",
       "    <tr>\n",
       "      <th>G</th>\n",
       "      <td>-6.977281</td>\n",
       "      <td>-6.977281</td>\n",
       "      <td>-6.977281</td>\n",
       "      <td>-6.977281</td>\n",
       "      <td>-6.977281</td>\n",
       "      <td>-6.284134</td>\n",
       "      <td>-6.977281</td>\n",
       "      <td>-6.284134</td>\n",
       "      <td>-6.977281</td>\n",
       "      <td>-6.977281</td>\n",
       "      <td>...</td>\n",
       "      <td>-6.977281</td>\n",
       "      <td>-6.977281</td>\n",
       "      <td>-6.977281</td>\n",
       "      <td>-6.977281</td>\n",
       "      <td>-6.977281</td>\n",
       "      <td>-6.977281</td>\n",
       "      <td>-6.977281</td>\n",
       "      <td>-6.977281</td>\n",
       "      <td>1072.0</td>\n",
       "      <td>-2.955425</td>\n",
       "    </tr>\n",
       "    <tr>\n",
       "      <th>C</th>\n",
       "      <td>-6.440263</td>\n",
       "      <td>-8.386173</td>\n",
       "      <td>-6.188948</td>\n",
       "      <td>-7.693026</td>\n",
       "      <td>-7.693026</td>\n",
       "      <td>-6.188948</td>\n",
       "      <td>-8.386173</td>\n",
       "      <td>-8.386173</td>\n",
       "      <td>-8.386173</td>\n",
       "      <td>-6.188948</td>\n",
       "      <td>...</td>\n",
       "      <td>-7.693026</td>\n",
       "      <td>-7.693026</td>\n",
       "      <td>-8.386173</td>\n",
       "      <td>-6.776735</td>\n",
       "      <td>-8.386173</td>\n",
       "      <td>-7.693026</td>\n",
       "      <td>-8.386173</td>\n",
       "      <td>-5.821224</td>\n",
       "      <td>4386.0</td>\n",
       "      <td>-1.546534</td>\n",
       "    </tr>\n",
       "    <tr>\n",
       "      <th>T</th>\n",
       "      <td>-6.763885</td>\n",
       "      <td>-6.763885</td>\n",
       "      <td>-6.763885</td>\n",
       "      <td>-6.763885</td>\n",
       "      <td>-6.763885</td>\n",
       "      <td>-6.763885</td>\n",
       "      <td>-6.763885</td>\n",
       "      <td>-6.763885</td>\n",
       "      <td>-6.763885</td>\n",
       "      <td>-6.763885</td>\n",
       "      <td>...</td>\n",
       "      <td>-6.763885</td>\n",
       "      <td>-6.763885</td>\n",
       "      <td>-6.763885</td>\n",
       "      <td>-6.763885</td>\n",
       "      <td>-6.763885</td>\n",
       "      <td>-6.763885</td>\n",
       "      <td>-6.763885</td>\n",
       "      <td>-6.763885</td>\n",
       "      <td>866.0</td>\n",
       "      <td>-3.168822</td>\n",
       "    </tr>\n",
       "    <tr>\n",
       "      <th>P</th>\n",
       "      <td>-6.716595</td>\n",
       "      <td>-6.716595</td>\n",
       "      <td>-6.716595</td>\n",
       "      <td>-6.716595</td>\n",
       "      <td>-6.716595</td>\n",
       "      <td>-6.716595</td>\n",
       "      <td>-6.716595</td>\n",
       "      <td>-6.716595</td>\n",
       "      <td>-6.716595</td>\n",
       "      <td>-6.716595</td>\n",
       "      <td>...</td>\n",
       "      <td>-6.716595</td>\n",
       "      <td>-6.716595</td>\n",
       "      <td>-6.716595</td>\n",
       "      <td>-6.716595</td>\n",
       "      <td>-6.716595</td>\n",
       "      <td>-6.716595</td>\n",
       "      <td>-6.716595</td>\n",
       "      <td>-6.716595</td>\n",
       "      <td>826.0</td>\n",
       "      <td>-3.216112</td>\n",
       "    </tr>\n",
       "    <tr>\n",
       "      <th>Q</th>\n",
       "      <td>-6.719013</td>\n",
       "      <td>-6.719013</td>\n",
       "      <td>-6.719013</td>\n",
       "      <td>-6.719013</td>\n",
       "      <td>-6.719013</td>\n",
       "      <td>-6.719013</td>\n",
       "      <td>-6.719013</td>\n",
       "      <td>-6.719013</td>\n",
       "      <td>-6.719013</td>\n",
       "      <td>-6.719013</td>\n",
       "      <td>...</td>\n",
       "      <td>-6.719013</td>\n",
       "      <td>-6.719013</td>\n",
       "      <td>-6.719013</td>\n",
       "      <td>-6.719013</td>\n",
       "      <td>-6.719013</td>\n",
       "      <td>-6.719013</td>\n",
       "      <td>-6.719013</td>\n",
       "      <td>-6.719013</td>\n",
       "      <td>828.0</td>\n",
       "      <td>-3.213693</td>\n",
       "    </tr>\n",
       "  </tbody>\n",
       "</table>\n",
       "<p>5 rows × 820 columns</p>\n",
       "</div>"
      ],
      "text/plain": [
       "       岗位培训   投入产出经济学       大同市        运城        上海       安徽省    成本效益分析  \\\n",
       "G -6.977281 -6.977281 -6.977281 -6.977281 -6.977281 -6.284134 -6.977281   \n",
       "C -6.440263 -8.386173 -6.188948 -7.693026 -7.693026 -6.188948 -8.386173   \n",
       "T -6.763885 -6.763885 -6.763885 -6.763885 -6.763885 -6.763885 -6.763885   \n",
       "P -6.716595 -6.716595 -6.716595 -6.716595 -6.716595 -6.716595 -6.716595   \n",
       "Q -6.719013 -6.719013 -6.719013 -6.719013 -6.719013 -6.719013 -6.719013   \n",
       "\n",
       "   中国科学技术协会      社会发展       湖南省    ...          石城县    高等职业教育     商品购买力  \\\n",
       "G -6.284134 -6.977281 -6.977281    ...    -6.977281 -6.977281 -6.977281   \n",
       "C -8.386173 -8.386173 -6.188948    ...    -7.693026 -7.693026 -8.386173   \n",
       "T -6.763885 -6.763885 -6.763885    ...    -6.763885 -6.763885 -6.763885   \n",
       "P -6.716595 -6.716595 -6.716595    ...    -6.716595 -6.716595 -6.716595   \n",
       "Q -6.719013 -6.719013 -6.719013    ...    -6.719013 -6.719013 -6.719013   \n",
       "\n",
       "        成都市      资本市场        河北        廊坊       云南省  Col_sum     Col_g  \n",
       "G -6.977281 -6.977281 -6.977281 -6.977281 -6.977281   1072.0 -2.955425  \n",
       "C -6.776735 -8.386173 -7.693026 -8.386173 -5.821224   4386.0 -1.546534  \n",
       "T -6.763885 -6.763885 -6.763885 -6.763885 -6.763885    866.0 -3.168822  \n",
       "P -6.716595 -6.716595 -6.716595 -6.716595 -6.716595    826.0 -3.216112  \n",
       "Q -6.719013 -6.719013 -6.719013 -6.719013 -6.719013    828.0 -3.213693  \n",
       "\n",
       "[5 rows x 820 columns]"
      ]
     },
     "execution_count": 22,
     "metadata": {},
     "output_type": "execute_result"
    }
   ],
   "source": [
    "df[:5]"
   ]
  },
  {
   "cell_type": "markdown",
   "metadata": {},
   "source": [
    "### 查表预测代码"
   ]
  },
  {
   "cell_type": "code",
   "execution_count": 24,
   "metadata": {
    "collapsed": false
   },
   "outputs": [],
   "source": [
    "def predictor(words):\n",
    "    l=0\n",
    "    for word in words:\n",
    "        try:\n",
    "            l +=df[word]\n",
    "        except: \n",
    "            print(df[word])\n",
    "    l=l+df['Col_g']\n",
    "    ll=l.to_dict()\n",
    "    p = max(ll.items(), key=lambda x: x[1])\n",
    "    print(p)"
   ]
  },
  {
   "cell_type": "markdown",
   "metadata": {},
   "source": [
    "### 对测试集两个具体样本进行推测"
   ]
  },
  {
   "cell_type": "markdown",
   "metadata": {},
   "source": [
    "##### 对《上海统计年鉴》主题词进行推理"
   ]
  },
  {
   "cell_type": "code",
   "execution_count": 25,
   "metadata": {
    "collapsed": false
   },
   "outputs": [
    {
     "name": "stdout",
     "output_type": "stream",
     "text": [
      "('C', -13.94292639999329)\n"
     ]
    }
   ],
   "source": [
    "predictor(['统计资料', '上海市', '年鉴', '汉英'])"
   ]
  },
  {
   "cell_type": "markdown",
   "metadata": {},
   "source": [
    "##### 对《中国高技术产业统计年鉴》主题词进行推理"
   ]
  },
  {
   "cell_type": "code",
   "execution_count": 26,
   "metadata": {
    "collapsed": false
   },
   "outputs": [
    {
     "name": "stdout",
     "output_type": "stream",
     "text": [
      "('F', -18.647214710355513)\n"
     ]
    }
   ],
   "source": [
    "predictor(['高技术产业', '统计资料', '中国', '年鉴', '汉英'])"
   ]
  },
  {
   "cell_type": "markdown",
   "metadata": {},
   "source": [
    "### 进行测试集准确率测试"
   ]
  },
  {
   "cell_type": "code",
   "execution_count": 27,
   "metadata": {
    "collapsed": false
   },
   "outputs": [],
   "source": [
    "test = comment[n:]\n",
    "test.reindex()\n",
    "words = test['主题词']"
   ]
  },
  {
   "cell_type": "code",
   "execution_count": 28,
   "metadata": {
    "collapsed": false
   },
   "outputs": [
    {
     "name": "stdout",
     "output_type": "stream",
     "text": [
      "石油化学工业\n",
      "企业集团\n",
      "评估金融\n",
      "评估\n",
      "渭南\n",
      "汉中\n",
      "郴州\n",
      "吉安\n",
      "崇左市\n",
      "试验设计\n",
      "网络经济\n",
      "焦作市\n",
      "保定\n",
      "区域金融中心\n",
      "延安\n",
      "农业信贷\n",
      "信贷资金管理\n",
      "江阴\n",
      "按要素分配\n",
      "阳江市\n",
      "宿迁\n",
      "文集社会发展\n",
      "投资公司\n",
      "消费支出\n",
      "统计年鉴\n",
      "吕梁\n",
      "台州\n",
      "汽车保险\n",
      "长沙\n",
      "连云港\n",
      "农业发展\n",
      "中国农民收入\n",
      "收入增长\n",
      "许昌市\n",
      "基层工作\n",
      "通化市\n",
      "统计工作\n",
      "摄影集\n",
      "分析\n",
      "经济发展趋势\n",
      "科学研究组织机构\n",
      "企业法\n",
      "中国行政法\n",
      "零售贸易\n",
      "商业统计学\n",
      "漳州市\n",
      "诺贝尔经济学奖\n",
      "经济学家\n",
      "生平事迹\n",
      "通俗读物数学\n",
      "石油需求\n",
      "市场需求分析\n",
      "中国煤炭\n",
      "市场需求分析\n",
      "体育产业\n",
      "工作方法\n",
      "荆州\n",
      "绍兴\n",
      "旅馆\n",
      "大连\n",
      "经济失衡\n",
      "经济指标\n",
      "大连\n",
      "应用文\n",
      "台湾省\n",
      "工业技术\n",
      "技术革新\n",
      "百科全书医学遗传学\n",
      "遥感技术\n",
      "作物\n",
      "种植面积\n",
      "宝鸡\n",
      "嘉兴\n",
      "九江\n",
      "旅游业发展\n",
      "青岛\n",
      "河池市\n",
      "经济统计能源经济\n",
      "保定\n",
      "升学参考资料高等学校\n"
     ]
    }
   ],
   "source": [
    "# 朴素贝叶斯算法\n",
    "m=[]\n",
    "for i in test.index:\n",
    "    words = test['主题词'][i]\n",
    "    l=0\n",
    "    for word in words:\n",
    "        try:\n",
    "            l +=df[word]\n",
    "        except: \n",
    "            print(word)\n",
    "    l=l+df['Col_g']\n",
    "    ll=l.to_dict()\n",
    "    f = max(ll.items(), key=lambda x: x[1])\n",
    "    m.append(f[0])"
   ]
  },
  {
   "cell_type": "code",
   "execution_count": 29,
   "metadata": {
    "collapsed": false
   },
   "outputs": [
    {
     "name": "stdout",
     "output_type": "stream",
     "text": [
      "测试集准确率： 88.93805309734513\n"
     ]
    }
   ],
   "source": [
    "test_fl = list(test['fl'])\n",
    "test_fl\n",
    "t=0\n",
    "for i,j in zip(m,test_fl):\n",
    "    if i==j:\n",
    "        t+=1\n",
    "print('测试集准确率：',t/len(m)*100)"
   ]
  },
  {
   "cell_type": "markdown",
   "metadata": {
    "collapsed": true
   },
   "source": [
    "# 使用独热码形式进行训练"
   ]
  },
  {
   "cell_type": "code",
   "execution_count": 31,
   "metadata": {
    "collapsed": false
   },
   "outputs": [
    {
     "data": {
      "text/plain": [
       "[['统计资料', '上海市', '年鉴', '汉英'],\n",
       " ['统计资料', '广西', '年鉴', '汉英'],\n",
       " ['企业经济', '福建省', '年鉴'],\n",
       " ['统计资料', '天津市', '年鉴', '汉英'],\n",
       " ['统计资料', '海口市', '年鉴']]"
      ]
     },
     "execution_count": 31,
     "metadata": {},
     "output_type": "execute_result"
    }
   ],
   "source": [
    "c=[]\n",
    "for item in comment['主题词']:\n",
    "    c.append(item)\n",
    "c[:5]"
   ]
  },
  {
   "cell_type": "code",
   "execution_count": 32,
   "metadata": {
    "collapsed": false
   },
   "outputs": [],
   "source": [
    "from sklearn.preprocessing import MultiLabelBinarizer\n",
    "x = c\n",
    "x = MultiLabelBinarizer().fit_transform(x)\n",
    "#classif.fit(X, y).predict(X)"
   ]
  },
  {
   "cell_type": "code",
   "execution_count": 33,
   "metadata": {
    "collapsed": true
   },
   "outputs": [],
   "source": [
    "from sklearn.naive_bayes import GaussianNB,MultinomialNB,BernoulliNB\n",
    "#gnb = GaussianNB()\n",
    "#gnb = MultinomialNB()\n",
    "gnb = BernoulliNB()"
   ]
  },
  {
   "cell_type": "code",
   "execution_count": 34,
   "metadata": {
    "collapsed": false
   },
   "outputs": [
    {
     "data": {
      "text/plain": [
       "['B', 'C', 'C', 'C', 'C']"
      ]
     },
     "execution_count": 34,
     "metadata": {},
     "output_type": "execute_result"
    }
   ],
   "source": [
    "y=[]\n",
    "for item in cg['fl']:\n",
    "    y.append(item)\n",
    "y[:5]"
   ]
  },
  {
   "cell_type": "code",
   "execution_count": 35,
   "metadata": {
    "collapsed": false
   },
   "outputs": [
    {
     "data": {
      "text/plain": [
       "(1804, 1804)"
      ]
     },
     "execution_count": 35,
     "metadata": {},
     "output_type": "execute_result"
    }
   ],
   "source": [
    "len(x[:1804]),len(y)"
   ]
  },
  {
   "cell_type": "code",
   "execution_count": 36,
   "metadata": {
    "collapsed": false
   },
   "outputs": [],
   "source": [
    "gnb_model = gnb.fit(x[:1804],y)"
   ]
  },
  {
   "cell_type": "code",
   "execution_count": 37,
   "metadata": {
    "collapsed": false
   },
   "outputs": [
    {
     "data": {
      "text/plain": [
       "['中国经济', '经济增长', '研究']"
      ]
     },
     "execution_count": 37,
     "metadata": {},
     "output_type": "execute_result"
    }
   ],
   "source": [
    "test_x = list(test['主题词'])\n",
    "test_x[0]"
   ]
  },
  {
   "cell_type": "code",
   "execution_count": 38,
   "metadata": {
    "collapsed": false
   },
   "outputs": [
    {
     "data": {
      "text/plain": [
       "451"
      ]
     },
     "execution_count": 38,
     "metadata": {},
     "output_type": "execute_result"
    }
   ],
   "source": [
    "yy = gnb_model.predict(x[1805:])\n",
    "len(yy)"
   ]
  },
  {
   "cell_type": "code",
   "execution_count": 39,
   "metadata": {
    "collapsed": false
   },
   "outputs": [
    {
     "name": "stdout",
     "output_type": "stream",
     "text": [
      "0.5853658536585366\n"
     ]
    }
   ],
   "source": [
    "t=0\n",
    "for i,j in zip(yy,test_fl):\n",
    "    if i==j:t+=1\n",
    "print(t/len(yy))  #贝努利推测准确率"
   ]
  },
  {
   "cell_type": "markdown",
   "metadata": {
    "collapsed": true
   },
   "source": [
    "##  使用sklearn包三种方法进行构建"
   ]
  },
  {
   "cell_type": "code",
   "execution_count": 40,
   "metadata": {
    "collapsed": true
   },
   "outputs": [],
   "source": [
    "from sklearn.naive_bayes import MultinomialNB\n",
    "from sklearn.pipeline import Pipeline\n",
    "from sklearn.feature_extraction.text import TfidfVectorizer, HashingVectorizer, CountVectorizer\n",
    "\n",
    "#nbc means naive bayes classifier\n",
    "nbc_1 = Pipeline([\n",
    "    ('vect', CountVectorizer()),\n",
    "    ('clf', MultinomialNB()),\n",
    "])\n",
    "nbc_2 = Pipeline([\n",
    "    ('vect', HashingVectorizer(non_negative=True)),\n",
    "    ('clf', MultinomialNB()),\n",
    "])\n",
    "nbc_3 = Pipeline([\n",
    "    ('vect', TfidfVectorizer()),\n",
    "    ('clf', MultinomialNB()),\n",
    "])\n",
    "\n",
    "nbcs = [nbc_1, nbc_2, nbc_3]"
   ]
  },
  {
   "cell_type": "code",
   "execution_count": 41,
   "metadata": {
    "collapsed": false
   },
   "outputs": [],
   "source": [
    "from sklearn.cross_validation import cross_val_score, KFold\n",
    "from scipy.stats import sem\n",
    "import numpy as np\n",
    "\n",
    "def evaluate_cross_validation(clf, X, y, K):\n",
    "    # create a k-fold croos validation iterator of k=5 folds\n",
    "    cv = KFold(len(y), K, shuffle=True, random_state=0)\n",
    "    # by default the score used is the one returned by score method of the estimator (accuracy)\n",
    "    scores = cross_val_score(clf, X, y, cv=cv)\n",
    "    print (scores)\n",
    "    print (\"Mean score: {0:.3f} (+/-{1:.3f})\").format(\n",
    "        np.mean(scores), sem(scores))"
   ]
  },
  {
   "cell_type": "code",
   "execution_count": 42,
   "metadata": {
    "collapsed": false
   },
   "outputs": [
    {
     "data": {
      "text/plain": [
       "['C', 'C', 'F', 'C', 'C']"
      ]
     },
     "execution_count": 42,
     "metadata": {},
     "output_type": "execute_result"
    }
   ],
   "source": [
    "y=[]\n",
    "for item in comment['fl']:\n",
    "    y.append(item)\n",
    "y[:5]"
   ]
  },
  {
   "cell_type": "markdown",
   "metadata": {},
   "source": [
    "### 使用TF-IDF算法构建矩阵"
   ]
  },
  {
   "cell_type": "code",
   "execution_count": 43,
   "metadata": {
    "collapsed": false
   },
   "outputs": [
    {
     "data": {
      "text/plain": [
       "['统计资料 上海市 年鉴 汉英 ',\n",
       " '统计资料 广西 年鉴 汉英 ',\n",
       " '企业经济 福建省 年鉴 ',\n",
       " '统计资料 天津市 年鉴 汉英 ',\n",
       " '统计资料 海口市 年鉴 ',\n",
       " '统计资料 上海市 年鉴 汉英 ',\n",
       " '高技术产业 统计资料 中国 年鉴 汉英 ',\n",
       " '经济 普查 研究成果 汇编 重庆市 ',\n",
       " '统计 中国 文集 ',\n",
       " '统计资料 辽宁省 年鉴 ']"
      ]
     },
     "execution_count": 43,
     "metadata": {},
     "output_type": "execute_result"
    }
   ],
   "source": [
    "from sklearn.feature_extraction.text import TfidfTransformer  \n",
    "Tf = TfidfVectorizer()\n",
    "X=[]\n",
    "for item in c:\n",
    "    w=''\n",
    "    for word in item:\n",
    "        w += word\n",
    "        w +=' '\n",
    "    X.append(w)\n",
    "X[:10]    "
   ]
  },
  {
   "cell_type": "code",
   "execution_count": 44,
   "metadata": {
    "collapsed": false
   },
   "outputs": [
    {
     "name": "stderr",
     "output_type": "stream",
     "text": [
      "C:\\Anaconda3\\lib\\site-packages\\sklearn\\feature_extraction\\text.py:1015: FutureWarning: Conversion of the second argument of issubdtype from `float` to `np.floating` is deprecated. In future, it will be treated as `np.float64 == np.dtype(float).type`.\n",
      "  if hasattr(X, 'dtype') and np.issubdtype(X.dtype, np.float):\n"
     ]
    }
   ],
   "source": [
    "X_t = Tf.fit_transform(X)\n",
    "X_aa = X_t.toarray()\n",
    "X_aa.shape\n",
    "SPLIT_PERC = 0.75\n",
    "split_size = int(len(y)*SPLIT_PERC)\n",
    "X_train = X_aa[:split_size]\n",
    "X_test = X_aa[split_size:]\n",
    "Y_train = y[:split_size]\n",
    "Y_test = y[split_size:]\n",
    "model = gnb.fit(X_train, Y_train)\n",
    "yy = model.predict(X_test)"
   ]
  },
  {
   "cell_type": "code",
   "execution_count": 45,
   "metadata": {
    "collapsed": false
   },
   "outputs": [
    {
     "name": "stdout",
     "output_type": "stream",
     "text": [
      "测试集准确率： 0.8368794326241135\n"
     ]
    }
   ],
   "source": [
    "t=0\n",
    "for i,j in zip(yy,Y_test):\n",
    "    if i==j:\n",
    "        t+=1\n",
    "print('测试集准确率：',t/len(yy))"
   ]
  },
  {
   "cell_type": "code",
   "execution_count": null,
   "metadata": {
    "collapsed": true
   },
   "outputs": [],
   "source": []
  },
  {
   "cell_type": "code",
   "execution_count": null,
   "metadata": {
    "collapsed": true
   },
   "outputs": [],
   "source": []
  }
 ],
 "metadata": {
  "kernelspec": {
   "display_name": "Python 3",
   "language": "python",
   "name": "python3"
  },
  "language_info": {
   "codemirror_mode": {
    "name": "ipython",
    "version": 3
   },
   "file_extension": ".py",
   "mimetype": "text/x-python",
   "name": "python",
   "nbconvert_exporter": "python",
   "pygments_lexer": "ipython3",
   "version": "3.5.1"
  }
 },
 "nbformat": 4,
 "nbformat_minor": 0
}
